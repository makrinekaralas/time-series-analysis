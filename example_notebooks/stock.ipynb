{
 "cells": [
  {
   "cell_type": "code",
   "execution_count": null,
   "metadata": {},
   "outputs": [],
   "source": [
    "%reset\n",
    "import sys\n",
    "sys.path.append('../')\n",
    "import numpy as np\n",
    "import pandas as pd\n",
    "import datetime\n",
    "from tsf_bmw.uvtsf import UVariateTimeSeriesForecaster\n",
    "from tsf_bmw.tools import moving_linreg\n",
    "from plotly.plotly import plot_mpl\n",
    "import matplotlib.pyplot as plt\n",
    "import matplotlib.dates as mdates\n",
    "import matplotlib.colors as mcolors\n",
    "%matplotlib inline\n",
    "from random import sample"
   ]
  },
  {
   "cell_type": "markdown",
   "metadata": {},
   "source": [
    "##### Read in the data"
   ]
  },
  {
   "cell_type": "code",
   "execution_count": null,
   "metadata": {},
   "outputs": [],
   "source": [
    "try:\n",
    "    ts_univ = pd.read_csv('../data/GOOG.csv', index_col='Date', usecols=['Date','Adj Close'], parse_dates=True)\n",
    "    print ( \"====================================\\nData: data of shape \" + str(ts_univ.shape) + \" has been read in.\" ) \n",
    "except IOError as e:\n",
    "    print(\"Could not read in the data: {}\".format(e))"
   ]
  },
  {
   "cell_type": "code",
   "execution_count": null,
   "metadata": {},
   "outputs": [],
   "source": [
    "ts_univ.plot()"
   ]
  },
  {
   "cell_type": "markdown",
   "metadata": {},
   "source": [
    "##### Create UVariateTimeSeriesForecaster"
   ]
  },
  {
   "cell_type": "code",
   "execution_count": null,
   "metadata": {},
   "outputs": [],
   "source": [
    "uv_tsf = UVariateTimeSeriesForecaster(dict({'ts_df':ts_univ, 'time_format': \"%Y-%m-%d %H:%M:%S\", 'freq':'D', 'transform': 'log10',  'p_train':0.9}))\n",
    "uv_tsf.ts_resample()\n",
    "plt.plot(uv_tsf.ts_df)"
   ]
  },
  {
   "cell_type": "code",
   "execution_count": null,
   "metadata": {},
   "outputs": [],
   "source": [
    "uv_tsf.ts_decompose(params=dict({'model':'additive'}))\n",
    "uv_tsf.plot_decompose()\n",
    "plt.plot(uv_tsf.model['seasonal'].iloc[1:20, ])\n",
    "plt.gcf ().autofmt_xdate ()"
   ]
  },
  {
   "cell_type": "code",
   "execution_count": null,
   "metadata": {},
   "outputs": [],
   "source": [
    "method='auto_arima'\n",
    "dict_params = dict()\n",
    "dict_params = {\n",
    "    'max_p': 5,\n",
    "    'max_q': 5,\n",
    "    'max_P': 5,\n",
    "    'max_Q':5\n",
    "}"
   ]
  },
  {
   "cell_type": "code",
   "execution_count": null,
   "metadata": {},
   "outputs": [],
   "source": [
    "method='es'\n",
    "dict_params = dict()\n",
    "\n",
    "dict_params = {\n",
    "    'trend': 'additive',\n",
    "    'seasonal': True,\n",
    "    'seasonal_periods': 12,\n",
    "    'smoothing_level': 0.2,\n",
    "    'use_boxcox':True,\n",
    "    'damped': False}"
   ]
  },
  {
   "cell_type": "code",
   "execution_count": null,
   "metadata": {},
   "outputs": [],
   "source": [
    "method = 'prophet'\n",
    "dict_params = {\n",
    "    'interval_width': 0.95,\n",
    "    'yearly_seasonality': True,\n",
    "    'weekly_seasonality': False,\n",
    "    'monthly_seasonality': True,\n",
    "    'quarterly_seasonality': False,\n",
    "    'daily_seasonality': True,\n",
    "    'weekend_seasonality': True,\n",
    "    'changepoint_prior_scale': 0.001,\n",
    "    'consider_holidays':True,\n",
    "    'country': 'US',\n",
    "    'diagnose': True,\n",
    "    'history': '1460 days',\n",
    "    'horizon': '365 days',\n",
    "    'period': '180 days'\n",
    "}"
   ]
  },
  {
   "cell_type": "code",
   "execution_count": null,
   "metadata": {},
   "outputs": [],
   "source": [
    "if len(dict_params):\n",
    "    uv_tsf.ts_fit ( method=method, dict_params=dict_params ) \n",
    "else:\n",
    "    uv_tsf.ts_fit ( method=method ) "
   ]
  },
  {
   "cell_type": "code",
   "execution_count": null,
   "metadata": {},
   "outputs": [],
   "source": [
    "uv_tsf.ts_diagnose()"
   ]
  },
  {
   "cell_type": "code",
   "execution_count": null,
   "metadata": {},
   "outputs": [],
   "source": [
    "uv_tsf.plot_residuals()"
   ]
  },
  {
   "cell_type": "code",
   "execution_count": null,
   "metadata": {},
   "outputs": [],
   "source": [
    "uv_tsf.ts_test()"
   ]
  },
  {
   "cell_type": "code",
   "execution_count": null,
   "metadata": {},
   "outputs": [],
   "source": [
    "uv_tsf.ts_forecast(n_forecast = 50)"
   ]
  },
  {
   "cell_type": "code",
   "execution_count": null,
   "metadata": {},
   "outputs": [],
   "source": []
  }
 ],
 "metadata": {
  "kernelspec": {
   "display_name": "Python 3",
   "language": "python",
   "name": "python3"
  },
  "language_info": {
   "codemirror_mode": {
    "name": "ipython",
    "version": 3
   },
   "file_extension": ".py",
   "mimetype": "text/x-python",
   "name": "python",
   "nbconvert_exporter": "python",
   "pygments_lexer": "ipython3",
   "version": "3.7.1"
  }
 },
 "nbformat": 4,
 "nbformat_minor": 2
}
